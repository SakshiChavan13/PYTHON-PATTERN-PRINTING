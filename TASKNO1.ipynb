{
 "cells": [
  {
   "cell_type": "markdown",
   "id": "18484608",
   "metadata": {},
   "source": [
    "# TASK 1\n",
    "\n",
    "# REGISTRATION ID - SIRSS2111\n",
    "\n",
    "# NAME- SAKSHI SUDHAKAR CHAVAN"
   ]
  },
  {
   "cell_type": "markdown",
   "id": "d10eefe4",
   "metadata": {},
   "source": [
    "## PATTERN 1"
   ]
  },
  {
   "cell_type": "code",
   "execution_count": 1,
   "id": "dca8d911",
   "metadata": {},
   "outputs": [
    {
     "name": "stdout",
     "output_type": "stream",
     "text": [
      "1 \n",
      "3 3 \n",
      "5 5 5 \n",
      "7 7 7 7 \n",
      "9 9 9 9 9 \n"
     ]
    }
   ],
   "source": [
    "rows = 5\n",
    "i = 1\n",
    "while i <= rows:\n",
    "    j = 1\n",
    "    while j <= i:\n",
    "        print((i * 2 - 1), end=\" \")\n",
    "        j = j + 1\n",
    "    i = i + 1\n",
    "    print('')\n"
   ]
  },
  {
   "cell_type": "markdown",
   "id": "4d5359b9",
   "metadata": {},
   "source": [
    "## PATTERN 2"
   ]
  },
  {
   "cell_type": "code",
   "execution_count": 2,
   "id": "db574b28",
   "metadata": {},
   "outputs": [
    {
     "name": "stdout",
     "output_type": "stream",
     "text": [
      "0 1 2 3 4 5 \r\n",
      "0 1 2 3 4 \r\n",
      "0 1 2 3 \r\n",
      "0 1 2 \r\n",
      "0 1 \r\n"
     ]
    }
   ],
   "source": [
    "rows = 5\n",
    "for i in range(rows, 0, -1):\n",
    "    for j in range(0, i + 1):\n",
    "        print(j, end=' ')\n",
    "    print(\"\\r\")\n"
   ]
  },
  {
   "cell_type": "markdown",
   "id": "cdd6e7d7",
   "metadata": {},
   "source": [
    "## PATTERN 3"
   ]
  },
  {
   "cell_type": "code",
   "execution_count": 3,
   "id": "fcb2692b",
   "metadata": {},
   "outputs": [
    {
     "name": "stdout",
     "output_type": "stream",
     "text": [
      "1 \n",
      "3 3 \n",
      "5 5 5 \n",
      "7 7 7 7 \n",
      "9 9 9 9 9 \n"
     ]
    }
   ],
   "source": [
    "rows = 5\n",
    "i = 1\n",
    "while i <= rows:\n",
    "    j = 1\n",
    "    while j <= i:\n",
    "        print((i * 2 - 1), end=\" \")\n",
    "        j = j + 1\n",
    "    i = i + 1\n",
    "    print('')\n"
   ]
  },
  {
   "cell_type": "markdown",
   "id": "b5f4084d",
   "metadata": {},
   "source": [
    "## PATTERN 4"
   ]
  },
  {
   "cell_type": "code",
   "execution_count": 4,
   "id": "22492503",
   "metadata": {},
   "outputs": [
    {
     "name": "stdout",
     "output_type": "stream",
     "text": [
      "1 \n",
      "2 1 \n",
      "3 2 1 \n",
      "4 3 2 1 \n",
      "5 4 3 2 1 \n"
     ]
    }
   ],
   "source": [
    "rows = 6\n",
    "for i in range(1, rows):\n",
    "    for j in range(i, 0, -1):\n",
    "        print(j, end=' ')\n",
    "    print(\"\")\n"
   ]
  },
  {
   "cell_type": "markdown",
   "id": "9c881f69",
   "metadata": {},
   "source": [
    "## PATTERN 5"
   ]
  },
  {
   "cell_type": "code",
   "execution_count": 5,
   "id": "84c3d9e3",
   "metadata": {},
   "outputs": [
    {
     "name": "stdout",
     "output_type": "stream",
     "text": [
      "1 \n",
      "3 2 \n",
      "6 5 4 \n",
      "10 9 8 7 \n"
     ]
    }
   ],
   "source": [
    "start = 1\n",
    "stop = 2\n",
    "current_num = stop\n",
    "for row in range(2, 6):\n",
    "    for col in range(start, stop):\n",
    "        current_num -= 1\n",
    "        print(current_num, end=' ')\n",
    "    print(\"\")\n",
    "    start = stop\n",
    "    stop += row\n",
    "    current_num = stop\n"
   ]
  },
  {
   "cell_type": "markdown",
   "id": "cc3ecd20",
   "metadata": {},
   "source": [
    "## PATTERN 6"
   ]
  },
  {
   "cell_type": "code",
   "execution_count": 6,
   "id": "92361c22",
   "metadata": {},
   "outputs": [
    {
     "name": "stdout",
     "output_type": "stream",
     "text": [
      "1 \n",
      "1 1 \n",
      "1 2 1 \n",
      "1 3 3 1 \n",
      "1 4 6 4 1 \n",
      "1 5 10 10 5 1 \n",
      "1 6 15 20 15 6 1 \n"
     ]
    }
   ],
   "source": [
    "def print_pascal_triangle(size):\n",
    "    for i in range(0, size):\n",
    "        for j in range(0, i + 1):\n",
    "            print(decide_number(i, j), end=\" \")\n",
    "        print()\n",
    "\n",
    "\n",
    "def decide_number(n, k):\n",
    "    num = 1\n",
    "    if k > n - k:\n",
    "        k = n - k\n",
    "    for i in range(0, k):\n",
    "        num = num * (n - i)\n",
    "        num = num // (i + 1)\n",
    "    return num\n",
    "\n",
    "# set rows\n",
    "rows = 7\n",
    "print_pascal_triangle(rows)\n"
   ]
  },
  {
   "cell_type": "markdown",
   "id": "4f9fd49d",
   "metadata": {},
   "source": [
    "## PATTERN 7"
   ]
  },
  {
   "cell_type": "code",
   "execution_count": 7,
   "id": "a1d673fd",
   "metadata": {},
   "outputs": [
    {
     "name": "stdout",
     "output_type": "stream",
     "text": [
      "1 2 3 4 5 \n",
      "2 2 3 4 5 \n",
      "3 3 3 4 5 \n",
      "4 4 4 4 5 \n",
      "5 5 5 5 5 \n"
     ]
    }
   ],
   "source": [
    "rows = 5\n",
    "for i in range(1, rows + 1):\n",
    "    for j in range(1, rows + 1):\n",
    "        if j <= i:\n",
    "            print(i, end=' ')\n",
    "        else:\n",
    "            print(j, end=' ')\n",
    "    print()\n"
   ]
  },
  {
   "cell_type": "markdown",
   "id": "e5ad5331",
   "metadata": {},
   "source": [
    "## PATTERN 8"
   ]
  },
  {
   "cell_type": "code",
   "execution_count": 8,
   "id": "6bf88977",
   "metadata": {},
   "outputs": [
    {
     "name": "stdout",
     "output_type": "stream",
     "text": [
      "1  \n",
      "2  4  \n",
      "3  6  9  \n",
      "4  8  12  16  \n",
      "5  10  15  20  25  \n",
      "6  12  18  24  30  36  \n",
      "7  14  21  28  35  42  49  \n",
      "8  16  24  32  40  48  56  64  \n"
     ]
    }
   ],
   "source": [
    "rows = 8\n",
    "\n",
    "for i in range(1, rows + 1):\n",
    "    for j in range(1, i + 1):\n",
    "        # multiplication current column and row\n",
    "        square = i * j\n",
    "        print(i * j, end='  ')\n",
    "    print()\n"
   ]
  },
  {
   "cell_type": "markdown",
   "id": "0bde566b",
   "metadata": {},
   "source": [
    "## PATTERN 9"
   ]
  },
  {
   "cell_type": "code",
   "execution_count": 9,
   "id": "bbef440b",
   "metadata": {},
   "outputs": [
    {
     "name": "stdout",
     "output_type": "stream",
     "text": [
      "* * * * *  \n",
      "* * * *  \n",
      "* * *  \n",
      "* *  \n",
      "*  \n",
      " \n"
     ]
    }
   ],
   "source": [
    "rows = 5\n",
    "for i in range(rows + 1, 0, -1):\n",
    "    # nested reverse loop\n",
    "    for j in range(0, i - 1):\n",
    "        # display star\n",
    "        print(\"*\", end=' ')\n",
    "    print(\" \")\n"
   ]
  },
  {
   "cell_type": "markdown",
   "id": "ae2492fe",
   "metadata": {},
   "source": [
    "## PATTERN 10"
   ]
  },
  {
   "cell_type": "code",
   "execution_count": 10,
   "id": "f6535084",
   "metadata": {},
   "outputs": [
    {
     "name": "stdout",
     "output_type": "stream",
     "text": [
      "* \r\n",
      "* * \r\n",
      "* * * \r\n",
      "* * * * \r\n",
      "* * * * * \r\n"
     ]
    }
   ],
   "source": [
    "rows = 5\n",
    "for i in range(0, rows):\n",
    "    # nested loop for each column\n",
    "    for j in range(0, i + 1):\n",
    "        # print star\n",
    "        print(\"*\", end=' ')\n",
    "    # new line after each row\n",
    "    print(\"\\r\") \n"
   ]
  },
  {
   "cell_type": "markdown",
   "id": "4fa28153",
   "metadata": {},
   "source": [
    "## PATTERN 11\n"
   ]
  },
  {
   "cell_type": "code",
   "execution_count": 11,
   "id": "43834089",
   "metadata": {},
   "outputs": [
    {
     "name": "stdout",
     "output_type": "stream",
     "text": [
      "*  \n",
      "* *  \n",
      "* * *  \n",
      "* * * *  \n",
      "* * * * *  \n",
      "* * * * * *  \n",
      " \n",
      "* * * * * *  \n",
      "* * * * *  \n",
      "* * * *  \n",
      "* * *  \n",
      "* *  \n",
      "*  \n",
      " \n"
     ]
    }
   ],
   "source": [
    "rows = 6\n",
    "for i in range(0, rows):\n",
    "    for j in range(0, i + 1):\n",
    "        print(\"*\", end=' ')\n",
    "    print(\" \")\n",
    "\n",
    "print(\" \")\n",
    "\n",
    "for i in range(rows + 1, 0, -1):\n",
    "    for j in range(0, i - 1):\n",
    "        print(\"*\", end=' ')\n",
    "    print(\" \")\n"
   ]
  },
  {
   "cell_type": "markdown",
   "id": "1e09fb59",
   "metadata": {},
   "source": [
    "## PATTERN 12"
   ]
  },
  {
   "cell_type": "code",
   "execution_count": 12,
   "id": "985763a2",
   "metadata": {},
   "outputs": [
    {
     "name": "stdout",
     "output_type": "stream",
     "text": [
      "* \r\n",
      "* * \r\n",
      "* * * \r\n",
      "* * * * \r\n",
      "* * * * * \r\n",
      "* * * * \r\n",
      "* * * \r\n",
      "* * \r\n",
      "* \r\n",
      "\r\n"
     ]
    }
   ],
   "source": [
    "rows = 5\n",
    "for i in range(0, rows):\n",
    "    for j in range(0, i + 1):\n",
    "        print(\"*\", end=' ')\n",
    "    print(\"\\r\")\n",
    "\n",
    "for i in range(rows, 0, -1):\n",
    "    for j in range(0, i - 1):\n",
    "        print(\"*\", end=' ')\n",
    "    print(\"\\r\")\n"
   ]
  },
  {
   "cell_type": "markdown",
   "id": "6543f248",
   "metadata": {},
   "source": [
    "## PATTERN 13"
   ]
  },
  {
   "cell_type": "code",
   "execution_count": 13,
   "id": "b02e9800",
   "metadata": {},
   "outputs": [
    {
     "name": "stdout",
     "output_type": "stream",
     "text": [
      "**************\n",
      "******__******\n",
      "*****____*****\n",
      "****______****\n",
      "***________***\n",
      "**__________**\n",
      "*____________*\n"
     ]
    }
   ],
   "source": [
    "rows = 14\n",
    "print(\"*\" * rows, end=\"\\n\")\n",
    "i = (rows // 2) - 1\n",
    "j = 2\n",
    "while i != 0:\n",
    "    while j <= (rows - 2):\n",
    "        print(\"*\" * i, end=\"\")\n",
    "        print(\"_\" * j, end=\"\")\n",
    "        print(\"*\" * i, end=\"\\n\")\n",
    "        i = i - 1\n",
    "        j = j + 2\n"
   ]
  },
  {
   "cell_type": "code",
   "execution_count": null,
   "id": "90991535",
   "metadata": {},
   "outputs": [],
   "source": []
  }
 ],
 "metadata": {
  "kernelspec": {
   "display_name": "Python 3",
   "language": "python",
   "name": "python3"
  },
  "language_info": {
   "codemirror_mode": {
    "name": "ipython",
    "version": 3
   },
   "file_extension": ".py",
   "mimetype": "text/x-python",
   "name": "python",
   "nbconvert_exporter": "python",
   "pygments_lexer": "ipython3",
   "version": "3.8.8"
  }
 },
 "nbformat": 4,
 "nbformat_minor": 5
}
